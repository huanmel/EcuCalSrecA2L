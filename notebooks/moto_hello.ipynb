{
 "cells": [
  {
   "cell_type": "code",
   "execution_count": 1,
   "id": "e268cbad",
   "metadata": {},
   "outputs": [],
   "source": [
    "import struct\n",
    "from a2lparser.a2lparser import A2LParser\n",
    "from hexformat.srecord import SRecord"
   ]
  },
  {
   "cell_type": "code",
   "execution_count": 11,
   "id": "cb84b37b",
   "metadata": {},
   "outputs": [],
   "source": [
    "mot_file=r'..\\data\\MOT_CAL_FILE.mot'\n",
    "a2l_file=r'..\\data\\A2L_MAP_FILE.a2l'"
   ]
  },
  {
   "cell_type": "code",
   "execution_count": 3,
   "id": "093ab31d",
   "metadata": {},
   "outputs": [],
   "source": [
    "var_name='SnsrPLo_FilTiCon'"
   ]
  },
  {
   "cell_type": "code",
   "execution_count": 4,
   "id": "1e8afaf5",
   "metadata": {},
   "outputs": [
    {
     "name": "stdout",
     "output_type": "stream",
     "text": [
      "[12:22:42] \u001b[1m[INFO]\u001b[0m \u001b[1mParsing file: ..\\data\\A2L_MAP_FILE.a2l\u001b[0m\n",
      "[12:22:42] \u001b[31m\u001b[1m[ERROR]\u001b[0m \u001b[31m\u001b[1mSyntax error at line 1037 on token 'DISPLAY_IDENTIFIER' in section IF_DATA. No Grammar rule found for this token.\u001b[0m\n",
      "[12:22:42] \u001b[31m\u001b[1m[ERROR]\u001b[0m \u001b[31m\u001b[1mSyntax error at line 1051 on token 'DISPLAY_IDENTIFIER' in section IF_DATA. No Grammar rule found for this token.\u001b[0m\n",
      "[12:22:42] \u001b[31m\u001b[1m[ERROR]\u001b[0m \u001b[31m\u001b[1mSyntax error at line 1065 on token 'DISPLAY_IDENTIFIER' in section IF_DATA. No Grammar rule found for this token.\u001b[0m\n",
      "[12:22:42] \u001b[31m\u001b[1m[ERROR]\u001b[0m \u001b[31m\u001b[1mSyntax error at line 1079 on token 'DISPLAY_IDENTIFIER' in section IF_DATA. No Grammar rule found for this token.\u001b[0m\n",
      "|██████████████████████████████████████▋⚠︎| (!) 5812/6013 [97%] in 0.1s (0.00/s) \n",
      "[12:22:42] \u001b[32m\u001b[1m[SUCCESS]\u001b[0m \u001b[32m\u001b[1mCreated Abstract Syntax Tree from file: A2L_MAP_FILE.a2l\u001b[0m\n"
     ]
    }
   ],
   "source": [
    "ast_dict = A2LParser(log_level=\"INFO\").parse_file(a2l_file)\n",
    "a2l=list(ast_dict.values())[0]\n",
    "chars= a2l.find_sections(\"CHARACTERISTIC\")\n",
    "chars=chars['CHARACTERISTIC']\n",
    "chars_dict={ch['Name']: ch for ch in chars}"
   ]
  },
  {
   "cell_type": "code",
   "execution_count": 5,
   "id": "c264a966",
   "metadata": {},
   "outputs": [
    {
     "name": "stdout",
     "output_type": "stream",
     "text": [
      "{'Name': 'SnsrPLo_FilTiCon', 'LongIdentifier': '\"\"', 'Type': 'VALUE', 'Address': '0xfd0060', 'Deposit_Ref': 'Scalar_FLOAT32_IEEE', 'MaxDiff': '0', 'CONVERSION': 'EKL_DP187_v0_CM_single_sec', 'LowerLimit': '0.0', 'UpperLimit': '100.0'}\n"
     ]
    }
   ],
   "source": [
    "var=chars_dict[var_name]\n",
    "print(var)"
   ]
  },
  {
   "cell_type": "code",
   "execution_count": 12,
   "id": "5b289ed5",
   "metadata": {},
   "outputs": [],
   "source": [
    "srec = SRecord.fromfile(mot_file)\n",
    "x0_addr = var['Address']\n",
    "x0_len = 4\n",
    "b=srec.get(int(x0_addr,16), x0_len)"
   ]
  },
  {
   "cell_type": "code",
   "execution_count": 13,
   "id": "c5859b18",
   "metadata": {},
   "outputs": [
    {
     "name": "stdout",
     "output_type": "stream",
     "text": [
      "0.10000000149011612\n"
     ]
    }
   ],
   "source": [
    "format_map = {\n",
    "    'UBYTE': 'B',  # Unsigned 8-bit\n",
    "    'SBYTE': 'b',  # Signed 8-bit\n",
    "    'UWORD': '>H',  # Unsigned 16-bit\n",
    "    'SWORD': 'h',  # Signed 16-bit\n",
    "    'ULONG': 'I',  # Unsigned 32-bit\n",
    "    'SLONG': 'i',  # Signed 32-bit\n",
    "    'FLOAT32_IEEE': '>f',  # 32-bit float\n",
    "    'FLOAT64_IEEE': '>d'   # 64-bit double\n",
    "}\n",
    "data=b\n",
    "data_type = 'FLOAT32_IEEE'  # Example data type\n",
    "xu=struct.unpack_from(format_map[data_type], data)[0]\n",
    "print(xu)"
   ]
  }
 ],
 "metadata": {
  "kernelspec": {
   "display_name": "env_cal",
   "language": "python",
   "name": "python3"
  },
  "language_info": {
   "codemirror_mode": {
    "name": "ipython",
    "version": 3
   },
   "file_extension": ".py",
   "mimetype": "text/x-python",
   "name": "python",
   "nbconvert_exporter": "python",
   "pygments_lexer": "ipython3",
   "version": "3.13.5"
  }
 },
 "nbformat": 4,
 "nbformat_minor": 5
}
